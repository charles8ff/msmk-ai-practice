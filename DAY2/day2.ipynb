{
 "cells": [
  {
   "attachments": {},
   "cell_type": "markdown",
   "metadata": {},
   "source": [
    "# Ej1\n",
    "\n",
    "Estructuras de datos en python"
   ]
  },
  {
   "cell_type": "code",
   "execution_count": 2,
   "metadata": {},
   "outputs": [],
   "source": [
    "frutas = [\"manzana\", \"banana\", \"cereza\"] # lista\n",
    "alumnos = { \"Amador\"  : 90 ,\n",
    "            \"Manuel\"  : 70 ,\n",
    "            \"Vitoria\" : 10 ,\n",
    "            \"Carlos\"  : 100 ,\n",
    "        } # diccionario\n",
    "tupla = (\"soy\",\"inmutable\") # tupla\n"
   ]
  },
  {
   "attachments": {},
   "cell_type": "markdown",
   "metadata": {},
   "source": [
    "# Ej2\n",
    "\n",
    "Flujo\n"
   ]
  },
  {
   "cell_type": "code",
   "execution_count": 3,
   "metadata": {},
   "outputs": [
    {
     "name": "stdout",
     "output_type": "stream",
     "text": [
      "Amador obtuvo un : A\n",
      "Manuel obtuvo un : C\n",
      "Vitoria obtuvo un : F\n",
      "Carlos obtuvo un : A\n"
     ]
    }
   ],
   "source": [
    "def calcular_nota( num ):\n",
    "    if ( num >= 90): return \"A\"\n",
    "    elif ( num >= 80): return \"B\"\n",
    "    elif ( num >= 70): return \"C\"\n",
    "    elif ( num >= 60): return \"D\"\n",
    "    else: return \"F\"\n",
    "\n",
    "for alumno in alumnos:\n",
    "    print(alumno + \" obtuvo un : \" + calcular_nota(alumnos[alumno]))"
   ]
  },
  {
   "attachments": {},
   "cell_type": "markdown",
   "metadata": {},
   "source": [
    "Importamos librerías"
   ]
  },
  {
   "cell_type": "code",
   "execution_count": 4,
   "metadata": {},
   "outputs": [],
   "source": [
    "import pandas as pd\n",
    "import numpy as np\n"
   ]
  }
 ],
 "metadata": {
  "kernelspec": {
   "display_name": "Python 3",
   "language": "python",
   "name": "python3"
  },
  "language_info": {
   "codemirror_mode": {
    "name": "ipython",
    "version": 3
   },
   "file_extension": ".py",
   "mimetype": "text/x-python",
   "name": "python",
   "nbconvert_exporter": "python",
   "pygments_lexer": "ipython3",
   "version": "3.10.0"
  },
  "orig_nbformat": 4
 },
 "nbformat": 4,
 "nbformat_minor": 2
}
